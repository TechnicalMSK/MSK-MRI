{
  "nbformat": 4,
  "nbformat_minor": 0,
  "metadata": {
    "colab": {
      "name": "MRI Musculoskeletal Parameter Reference.ipynb",
      "provenance": [],
      "collapsed_sections": [],
      "authorship_tag": "ABX9TyO9TonuxxUAcyK4ThsOGLxW"
    },
    "kernelspec": {
      "name": "ir",
      "display_name": "R"
    }
  },
  "cells": [
    {
      "cell_type": "markdown",
      "source": [
        "# **MRI Musculoskeletal Parameter Reference:**\n",
        "\n",
        "This document reflects to some extent the geometric, contrast and NSA values on predominantly 1.5 Tesla Philips scanners $(\\small 30 \\text{ mT/m}; 100 \\text{ sl rate})$. These parameters are orientative since anatomical and coverage considerations my require changes to address conflict warnings: e.g. consider increasing the TR values to control time when anatomical coverage increases the number of packages.\n",
        "\n",
        "##### Technical notes:\n",
        "\n",
        "---\n",
        "\n",
        "Notice that when working on Philips magnets the pixel size is preserved by default, and hence, the matrix changes as FoV varies. Therefore, the in-plane geometry is best controlled directly establishing the voxel size.\n",
        "\n",
        "---\n",
        "\n",
        "In Philips magnets the receiver bandwidth is given in WFS (pixels/KHz). The conversion to KHz used by other vendors is\n",
        "\n",
        "$$\\small \\text{Bandwidth [KHz]}=K \\;\\frac{\\text{Matrix (Freq)}}{\\text{WFS}}$$\n",
        "\n",
        "with $K$ being the WFS conversion factor, which is $0.11$ for $1.5$-Tesla units (for example). \n",
        "\n",
        "---\n",
        "\n",
        "#### Abbreviations and choices in the parameters included:\n",
        "\n",
        "**Unif**: Uniformity algorithm (Synergy, CLEAR, Body tuned, Classic, Weak correction, Strong correction, Uniform correction).  Pre-scan correction (uniformity, coil flare) method with surface coil sensitivity calibration scan prior to imaging. Affected by motion and hardware. Not for SNR quantitative studies or cartilage imaging.\n",
        "\n",
        "**FoV**: Field of view\n",
        "\n",
        "**AcqVS**: Acquisition voxel size (phase $\\times$ freq), entered as $\\small \\text{range freq dir}\\times\\text{range phase dir}.$\n",
        "\n",
        "**AcqM**: Acquisition matrix range, entered as $\\small \\text{range freq dir}\\times\\text{range phase dir}.$\n",
        "\n",
        "**RecVS**: Reconstruction voxel size (always square)\n",
        "\n",
        "**RecM**: Reconstruction matix range\n",
        "\n",
        "**Slice**: Slice thickness in mm.\n",
        "\n",
        "**Gap**: Inter-slice spacing in mm when specified.\n",
        "\n",
        "**FOD**: Fold-over-direction (phase-encoding direction).\n",
        "\n",
        "**SBnd**: Saturation band (REST slabs or number of saturation bands) when present.\n",
        "\n",
        "**OS**: Oversampling, Fold-over suppression or No phase-wrap (NPW).\n",
        "\n",
        "**SENSE**: When applied the P-reduction value is included.\n",
        "\n",
        "**Acq**: Cartesian mode versus Radial or Spiral.\n",
        "\n",
        "**K-sp**: Profile order - linear, low-high and asymmetric (separate control over ES, i.e. blur / SNR ratio).\n",
        "\n",
        "**TR, TE**: Repetition and echo times.\n",
        "\n",
        "**FA (IR)**: Flip angle in degrees. In STIR sequence the IR delay in milliseconds is in parenthesis. \n",
        "\n",
        "**TSE**: The TSE factor or ETL.\n",
        "\n",
        "**ES**: Echo spacing (from 6 to 10 msec) when specified.\n",
        "\n",
        "**DRIVE**: DRIVE is employed with TR values $\\small 3,000$ msec as a transverse magnetization RF spoiler. We don't use above this value since it incurs a time penalty; it's use allows reduction in TR values in the range of $\\small 1,800-2,500$ msec. versus $2,500-5,000.$ As discussed above anatomical coverage may limit automatic reductions in TR (on the lower boundary also limited by SAR).\n",
        "\n",
        "**WFS**: Water-fat shift in pixels / KHz (see above).\n",
        "\n",
        "**NSA**: NEX\n",
        "\n",
        "**FS pulse**: SPIR versus SPAIR: SPAIR in more homogeneous fat suppression than SPIR at the cost of increased imaging time.\n",
        "\n",
        "![](https://user-images.githubusercontent.com/9312897/146692119-c69fe1e6-be75-4028-bae3-7b874fbe67ea.png)\n",
        "\n",
        "\n"
      ],
      "metadata": {
        "id": "uNeofUxk1RZc"
      }
    },
    {
      "cell_type": "markdown",
      "source": [
        "---\n",
        "\n",
        "# **SHOULDER**\n",
        "\n",
        "||Unif|FoV|AcqVS (F$\\times$P)|AcqM (F$\\times$P)|RecVS|RecM|Slice|Gap|FOD|SBnd|OS|SENSE|Acq|K-sp|TR|TE|FA (IR)|TSE|ES|DRIVE|WFS|NSA|FS\n",
        "|-|||||||||||||||||||||||-\n",
        "|`Sag PD`       |CLEAR|140-160|(0.50 - 0.55)$\\small\\times$(0.55 - 0.62) |(255 - 320)$\\times$(226 - 291)|0.35 - 0.40|350-400|3|Dflt|FH|1|40(H)$\\times$210(F)|1.5|Cartesian|Asym|1700-3000|30|90|$\\leq$12 |8|yes|0.8|2|NA\n",
        "|`Sag IR`    |CLEAR|140-150|(0.65 - 0.70)$\\small\\times$(0.55 - 0.60)|(233 - 291)$\\times$(200 - 246)|0.35 - 0.40|350-400|3|Dflt|FH|1|40(H)$\\times$210(F)|1.5|Cartesian|Asym|2500-5000|25|90 (150)|$\\leq$12|8|no|1.5|2|no\n",
        "|`Cor T1`       |CLEAR|140-150|(0.50 - 0.55)$\\small\\times$(0.55 - 0.62)  |(255 - 320)$\\times$(226 - 291)|0.3 - 0.40       |350-400|3|Dflt|FH|1|50(H)$\\times$50(F)|1.2|Cartesian|Low-High|400 - 800|18|90|$\\leq$5|8|no|0.8|2|NA\n",
        "|`Cor T2 fs`       |CLEAR|140-150|(0.50 - 0.55)$\\small\\times$(0.55 - 0.62)  |(255 - 320)$\\times$(226 - 291)|0.3 - 0.40       |350-400|3|Dflt|FH|1|20(H)$\\times$40(F)|1.2|Cartesian|Lin|500-650|18|90|$\\leq$5|8|yes|0.8|2|NA\n",
        "|`Cor PD fs`    |CLEAR|140-150|(0.58 - 0.62)$\\small\\times$(0.64 - 0.72) |(222 - 273)$\\times$(194 - 250)|0.3 - 0.35|400-500|3|Dflt|AP|1|20(H)$\\times$40(F)|1.5|Cartesian|Asym|1800-3000|30|90|$\\leq$12|8|no|0.8|2|SPAIR\n",
        "|`Ax PD fs`     |CLEAR|140-150|(0.55 - 0.60)$\\small\\times$(0.60 - 0.65) |(233 - 291)$\\times$(215 - 267)|0.3 - 0.35|350-400|3|Dflt|RL|1|40(H)$\\times$40(F)|1.5|Cartesian|Asym|3000-6000|30|90|$\\leq$12|8|no|1.2|2|SPAIR  "
      ],
      "metadata": {
        "id": "pXM-DLhyGs39"
      }
    },
    {
      "cell_type": "markdown",
      "source": [
        "Prescription pointers:\n",
        "\n",
        "$\\small (1)$ Coronal oblique scans should be prescribed along the proximal humerus using a sagittal scout. Axial scans should be prescribed at a\n",
        "perpendicular plane to the proximal humerus.\n",
        "\n",
        "$\\small (2)$ Avoid excluding the acromion in any of the sequences.\n",
        "\n",
        "![](https://user-images.githubusercontent.com/9312897/147128401-cf8a557e-a0b9-4062-8b5a-54c6e18e0a7e.png)"
      ],
      "metadata": {
        "id": "Tvdjql_9D12T"
      }
    },
    {
      "cell_type": "markdown",
      "source": [
        "---\n",
        "\n",
        "# **ELBOW**\n",
        "\n",
        "||Unif|FoV|AcqVS (F$\\times$P)|AcqM (F$\\times$P)|RecVS|RecM|Slice|Gap|FOD|SBnd|OS|SENSE|Acq|K-sp|TR|TE|FA (IR)|TSE|ES|DRIVE|WFS|NSA|FS\n",
        "|-|||||||||||||||||||||||-\n",
        "|`Cor T1`       |CLEAR|100 - 120|(0.48 - 0.55)$\\small\\times$(0.55 - 0.6) |(182 - 250)$\\times$(182 - 218)|0.3 - 0.35|286-400|3|Dflt|FH(by body); RL(overhead)|0|40(H)$\\times$40(F)|1.2|Cartesian|Asym|2500-5000|30|90|$\\leq$10 |8|no|0.8|2|NA\n",
        "|`Cor PD fs`       |CLEAR|100 - 120|(0.55 - 0.6)$\\small\\times$(0.55 - 0.62) |(182 - 250)$\\times$(182 - 218)|0.3 - 0.35|286-400|3|Dflt|FH(by body); RL(overhead)|0|40(H)$\\times$40(F)|1.2|Cartesian|Asym|500-650|18|90|$\\leq$5 |8|no|1.5|2|SPIR\n",
        "|`STIR`       |CLEAR|100 - 120|(0.55 - 0.6)$\\small\\times$(0.55 - 0.62) |(182 - 250)$\\times$(182 - 218)|0.3 - 0.35|286-400|3|Dflt|FH(by body); RL(overhead)|0|40(H)$\\times$40(F)|1.2|Cartesian|Asym|500-650|24|90(150)|$\\leq$5 |8|no|1.5|2|\n",
        "\n"
      ],
      "metadata": {
        "id": "azmxzLzLZf_C"
      }
    },
    {
      "cell_type": "markdown",
      "source": [
        "Prescription pointer:\n",
        "\n",
        "![](https://user-images.githubusercontent.com/9312897/147121290-3a3d4791-a475-4c0b-8bbd-d26942fe7f19.png)\n",
        "\n",
        "The bicipital tuberosity should be included in all sequences.\n",
        "\n",
        "![](https://user-images.githubusercontent.com/9312897/147135898-03d90fc3-1ab1-45a6-a95b-497a7557e592.png)\n",
        "\n",
        "Coronal sequences should be prescribed considering a line joining the medial to the lateral epicondyles. "
      ],
      "metadata": {
        "id": "p1TPXd7N2abe"
      }
    },
    {
      "cell_type": "markdown",
      "source": [
        "---\n",
        "\n",
        "# **WRIST**\n",
        "\n",
        "||Unif|FoV|AcqVS (F$\\times$P)|AcqM (F$\\times$P)|RecVS|RecM|Slice|Gap|FOD|SBnd|OS|SENSE|Acq|K-sp|TR|TE|FA (IR)|TSE|ES|DRIVE|WFS|NSA|FS\n",
        "|-|||||||||||||||||||||||-\n",
        "|`Cor T1`       |CLEAR|80 - 100 (sq)|(0.40 - 0.45)$\\small\\times$(0.45 - 0.50) |(178 - 250)$\\times$(178 - 222)|0.3|333-267|3|Dflt|RL|0|no|no|Cartesian|Lin|400-650|18|90|$\\leq$6 |10|no|0.8|2|NA\n",
        "|`Cor T2 fs`  |CLEAR|80 - 100 (sq)|(0.40 - 0.45)$\\small\\times$(0.45 - 0.50) |(178 - 250)$\\times$(178 - 222)|0.3|333-267|3|Dflt|RL|0|no|no|Cartesian|Lin|3000-6000|55|90|$\\leq$12|8|yes|1.5|2|SPIR\n",
        "|`Cor IR (optional)`    |CLEAR|80 - 100 (sq)|(0.45 - 0.50)$\\small\\times$(0.50 - 0.55) |(160 - 222)$\\times$(160 - 200)|0.3|333-267|3|Dflt (-0.75)|RL|0|no|no|Cartesian|Asym|shortest|25|90 (160)|$\\leq$8|8|no|1.5|2|no\n",
        "|`Cor 3D FFE IP`|CLEAR|80 - 100|(0.4 - 0.44) (sq) |(200 - 2227) (sq) |0.26 - 0.3|308-333|1|Dflt|AP|0|default|1.2(P-red RL)/1(S-red AP)|Cartesian|Asym|30|13 in-phase|15|NA|-|no|2|1|\n",
        "|`Ax PD fs`     |CLEAR|80 - 100 (sq)|(0.40 - 0.45)$\\small\\times$(0.45 - 0.50) |(178 - 250)$\\times$(178 - 222)|0.3|333-267|3|Dflt|AP|0|30(P)$\\times$30(A)|no|Cartesian|Asym|1800 - 3000|30|90|$\\leq$10|8|no|1.2|2|SPIR  \n",
        "|`Ax T2`     |CLEAR|80 - 100 (sq)|(0.40 - 0.45)$\\small\\times$(0.45 - 0.50) |(178 - 250)$\\times$(178 - 222)|0.3|333-267|3|Dflt|AP|0|30(P)$\\times$30(A)|no|Cartesian|Lin|3000 - 6000|55|90|$\\leq$12|8|no|1.2|2|  \n",
        "|`Sag PD fs`     |CLEAR|80 - 100 (sq)|(0.40 - 0.45)$\\small\\times$(0.45 - 0.50) |(178 - 250)$\\times$(178 - 222)|0.3|333-267|3|Dflt|AP|0|50(P)$\\times$ 50(A)|no|Cartesian|Lin|1800 - 3000|30|90|$\\leq$10|8|no|1.5|2|SPIR"
      ],
      "metadata": {
        "id": "lk2FNUdMsUwm"
      }
    },
    {
      "cell_type": "markdown",
      "source": [
        "---\n",
        "\n",
        "# **KNEE**\n",
        "\n",
        "||Unif|FoV|AcqVS (F $\\times$ P)|AcqM (F$\\times$P)|RecVS|RecM|Slice|Gap|FOD|SBnd|OS|SENSE|Acq|K-sp|TR|TE|FA(IP)|TSE|ES|DRIVE|WFS|NSA|FS\n",
        "|-|||||||||||||||||||||||-\n",
        "|`Cor T1`       |CLEAR|140-150|(0.55 - 0.60) $\\small\\times$ (0.60 - 0.65)|(233 - 273)$\\times$(215 - 250)|0.3 - 0.35|400-500|3|Dflt|FH|no|no|1.2|Cartesian|Asym|500-800|18|90|$\\leq$6 |8|no|0.8|2|NA\n",
        "|`Cor PD fs`    |CLEAR|140-150|(0.55 - 0.60) $\\small\\times$ (0.60 - 0.65)|(233 - 273)$\\times$(215 - 250)|0.3 - 0.35|400-500|3|Dflt|FH|no|no|1.2|Cartesian|Asym|1800-3000|30|90|$\\leq$10|8|yes|1.2|2|SPIR\n",
        "|`Sag PD`       |CLEAR|140-150|(0.53 - 0.58) $\\small\\times$ (0.60 - 0.62)|(233 - 273)$\\times$(215 - 250)|0.3       |400-500|3|Dflt|FH|no|no|1.2|Cartesian|Asym|1800-3000|30|90|$\\leq$10|8|yes|1.2|2|NA\n",
        "|`Sag T2 fs`    |CLEAR|140-150|(0.55 - 0.60) $\\small\\times$ (0.60 - 0.65)|(233 - 273)$\\times$(215 - 250)|0.3 - 0.35|400-500|3|Dflt|FH|no|no|1.2|Cartesian|Asym|2700-6000|55|90|$\\leq$14|8|yes|1.2|2|SPIR\n",
        "|`Ax PD fs`     |CLEAR|140-150|(0.55 - 0.60) $\\small\\times$ (0.60 - 0.65)|(233 - 273)$\\times$(215 - 250)|0.3 - 0.35|400-500|3|Dflt|RL|no|no|1.2|Cartesian|Asym|1800-3000|30|90|$\\leq$10|8|yes|1.2|2|SPIR  \n",
        "\n"
      ],
      "metadata": {
        "id": "Lo3Lk4HO4U0J"
      }
    },
    {
      "cell_type": "markdown",
      "source": [
        "---\n",
        "\n",
        "# **ANKLE**\n",
        "\n",
        "||Unif|FoV|AcqVS (F $\\times$ P)|AcqM (F$\\times$P)|RecVS|RecM|Slice|Gap|FOD|SBnd|OS|SENSE|Acq|K-sp|TR|TE|FA(IP)|TSE|ES|DRIVE|WFS|NSA|FS\n",
        "|-|||||||||||||||||||||||-\n",
        "|`Sag T1`       |CLEAR|150-160|(0.50 - 0.55) $\\small\\times$ (0.60 - 0.65)|(267 - 320)$\\times$(231 - 267)|0.3 - 0.35|375-400|3|Dflt|AP|no|70(A) × 30(P)|no|Cartesian|Asym|500-800|18|90|$\\leq$6 |8|no|0.8|2|NA\n",
        "|`Sag STIR`    |CLEAR|155-160|(0.60 - 0.65) $\\small\\times$ (0.65 - 0.70)|(231 - 267)$\\times$(214 - 246)|0.45 - 0.50|320-300|3|Dflt|AP|no|70(A) × 30(P)|1.2|Cartesian|Asym|shortest|25|90 (150)|$\\leq$10|8|yes|1.5|2|NA\n",
        "|`Cor T1`       |CLEAR|140-150|(0.53 - 0.55) $\\small\\times$ (0.56 - 0.60)|(255 - 283)$\\times$(233 - 268)|0.4 - 0.45       |333-350|3|Dflt|RL|no|no|1.2|Cartesian|Asym|1800-3000|30|90|$\\leq$10|8|yes|1.2|2|NA\n",
        "|`Cor PD fs`    |CLEAR|140-150|(0.53 - 0.55) $\\small\\times$ (0.56 - 0.60)|(255 - 283)$\\times$(233 - 268)|0.4 - 0.45       |333-350|3|Dflt|RL|no|no|1.2|Cartesian|Asym|1800-3000|30|90|$\\leq$10|8|yes|1.5|2|SPAIR\n",
        "|`Ax PD`     |CLEAR|140-150|(0.45 - 0.50) $\\small\\times$ (0.57 - 0.60)|(280 - 333)$\\times$(233 - 263)|0.3 - 0.35|439-467|3|Dflt|RL|no|40(R) × 40(L)|1.2|Cartesian|Asym|1800-3000|30|90|$\\leq$10|8|yes|1.2|2|NA\n",
        "|`Ax T2 fs`     |CLEAR|140-150|(0.53 - 0.55) $\\small\\times$ (0.56 - 0.60)|(255 - 283)$\\times$(233 - 268)|0.4 - 0.45 |333-350|3|Dflt|RL|no|40(R) × 40(L)|1.2|Cartesian|Asym|shortest|55|90|$\\leq$12|8|yes|1.2|2|SPIR\n"
      ],
      "metadata": {
        "id": "Z_je_umX2jGD"
      }
    },
    {
      "cell_type": "markdown",
      "source": [
        "---\n",
        "\n",
        "# **FOOT**\n",
        "\n",
        "||Unif|FoV|AcqVS (F $\\times$ P)|AcqM (F$\\times$P)|RecVS|RecM|Slice|Gap|FOD|SBnd|OS|SENSE|Acq|K-sp|TR|TE|FA(IP)|TSE|ES|DRIVE|WFS|NSA|FS\n",
        "|-|||||||||||||||||||||||-\n",
        "|`Sag T1`       |CLEAR|100 (FH) $\\times$ 130-150 (AP)|(0.50 - 0.55) $\\small\\times$ (0.65 - 0.70)|(236 - 300)$\\times$(236 - 250)|0.3 - 0.35|375-400|3|Dflt|FH|no|20(H) × 20(F)|1.2|Cartesian|Asym|500-800|18|90|$\\leq$6 |shortest|no|0.8|2|NA\n",
        "|`Sag STIR`    |CLEAR|100 (FH) $\\times$ 130-150 (AP)|(0.60 - 0.65) $\\small\\times$ (0.7 - 0.85)|(215 - 250)$\\times$(165 - 214)|0.40 - 0.45|333-375|3|Dflt|FH|no|20(H) × 20(F)|1.2|Cartesian|Asym|shortest|25|90 (150)|$\\leq$10|8|yes|1.5|2|NA\n",
        "|`Ax T1`       |CLEAR|100 (RL) $\\times$ 130-150 (AP)|(0.53 - 0.55) $\\small\\times$ (0.56 - 0.60)|(255 - 283)$\\times$(233 - 268)|0.4 - 0.45       |333-350|3|Dflt|RL|no|40(L) $\\times$ 40(R)|1.2|Cartesian|Asym|1800-3000|30|90|$\\leq$10|8|yes|1.2|2|NA\n",
        "|`Ax T2 fs`     |CLEAR|100 (RL) $\\times$ 130-150 (AP)|(0.53 - 0.55) $\\small\\times$ (0.56 - 0.60)|(255 - 283)$\\times$(233 - 268)|0.4 - 0.45 |333-350|3|Dflt|RL|no|40(R) × 40(L)|1.2|Cartesian|Asym|shortest|55|90|$\\leq$12|8|no|1.2|2|SPIR\n",
        "|`Cor T1`       |CLEAR|~100|(0.48 - 0.55) $\\small\\times$ (0.52 - 0.60)|(200 - 208)$\\times$(192 - 167)|0.4 - 0.45       |333-350|3|Dflt|RL|no|no|no|Cartesian|Asym|1800-3000|30|90|$\\leq$10|8|yes|1.2|2|NA\n",
        "|`Cor T2 fs`     |CLEAR|~100|(0.50- 0.55) $\\small\\times$ (0.56 - 0.62)|(200 - 192)$\\times$(161 - 179)|0.4 - 0.45 |333-350|3|Dflt|RL|no|no|no|Cartesian|Asym|shortest|55|90|$\\leq$12|8|no|1.5|2|SPIR\n"
      ],
      "metadata": {
        "id": "SZtnfmYfL3B4"
      }
    },
    {
      "cell_type": "markdown",
      "source": [
        "Prescription pointer:\n",
        "\n",
        "In both MRI studies of the \"ankle\" and the \"foot\" the Lisfranc joint (tarsometatarsal) (white contour line) should be included due to the importance of Lisfranc injuries, and in particular, the Lisfranc ligament (asterisk):\n",
        "\n",
        "![](https://user-images.githubusercontent.com/9312897/147136718-88cf87ce-ab11-4c3c-ada5-8f0d1961ed0b.png)\n",
        "\n",
        "---"
      ],
      "metadata": {
        "id": "QCosF3rCO8oC"
      }
    }
  ]
}