{
  "nbformat": 4,
  "nbformat_minor": 0,
  "metadata": {
    "colab": {
      "name": "MRI Musculoskeletal Parameter Reference.ipynb",
      "provenance": [],
      "collapsed_sections": [],
      "authorship_tag": "ABX9TyNs9C9sANmfZIVcUY+wk/Ld"
    },
    "kernelspec": {
      "name": "ir",
      "display_name": "R"
    }
  },
  "cells": [
    {
      "cell_type": "markdown",
      "source": [
        "# **MRI Musculoskeletal Parameter Reference:**\n",
        "\n",
        "This document reflects to some extent the geometric, contrast and NSA values on predominantly 1.5 Tesla Philips scanners $(\\small \\sim 30 \\text{ mT/m}; 100 \\text{ T/m/s}),$ although a range is included for the majority of parameters encompassing at the tails the prescribed values for 3 Tesla Philips scanners $(\\small\\sim 40 \\text{ mT/m}; 200 \\text{ T/m/s}).$ These parameters are orientative since anatomical and coverage considerations will require changes to address conflict warnings.\n",
        "\n",
        "##### Technical notes:\n",
        "\n",
        "---\n",
        "\n",
        "Notice that when working on Philips magnets the pixel size is preserved by default, and hence, the matrix changes as FoV varies. Therefore, the in-plane geometry is best controlled directly establishing the voxel size.\n",
        "\n",
        "---\n",
        "\n",
        "In Philips magnets the receiver bandwidth is given in WFS (pixels/KHz). The conversion to KHz used by other vendors is\n",
        "\n",
        "$$\\small \\text{Bandwidth [KHz]}= \\text K \\;\\frac{\\text{Matrix (Freq)}}{\\text{WFS}}$$\n",
        "\n",
        "with $\\text K$ being the WFS conversion factor, which is $0.11$ for $1.5$-Tesla units and 0.22 at $3.0$-Tesla. \n",
        "\n",
        "---\n",
        "\n",
        "#### Abbreviations and choices in the parameters included:\n",
        "\n",
        "**Unif**: Uniformity algorithm (Synergy, CLEAR, Body tuned, Classic, Weak correction, Strong correction, Uniform correction).  Pre-scan correction (uniformity, coil flare) method with surface coil sensitivity calibration scan prior to imaging. Affected by motion and hardware. Not for SNR quantitative studies or cartilage imaging.\n",
        "\n",
        "**FoV**: Field of view. Anatomical variations demand flexibility, including suggesting for multiple sequences the possibility of rectangular FoV's e.g. $(\\small \\text{sq} \\vee \\text{rec}).$\n",
        "\n",
        "**AcqVS**: Acquisition voxel size (phase $\\times$ freq), entered as $\\small \\text{range freq dir}\\times\\text{range phase dir}.$\n",
        "\n",
        "**AcqM**: Acquisition matrix range, entered as $\\small \\text{range freq dir}\\times\\text{range phase dir}.$ Please note that the choice of powers of $\\small 2,$ i.e. $\\small (256, 512)$ at least for the frequency direction, such as in $\\small 256 \\times 192,$ which used to be defaulted in older systems relying in classic FFT are no longer followed. \n",
        "\n",
        "**RecVS**: Reconstruction voxel size (always square)\n",
        "\n",
        "**RecM**: Reconstruction matix range\n",
        "\n",
        "**Slice**: Slice thickness in mm.\n",
        "\n",
        "**Gap**: Inter-slice spacing in mm when specified.\n",
        "\n",
        "**SSO:** Slice scan order (main options Default and Interleaved).\n",
        "\n",
        "**FOD**: Fold-over-direction (phase-encoding direction).\n",
        "\n",
        "**SBnd**: Saturation band (REST slabs or number of saturation bands) when present.\n",
        "\n",
        "**OS**: Oversampling, Fold-over suppression or No phase-wrap (NPW).\n",
        "\n",
        "**SENSE**: Parallel imagaging acceleration factor. When applied, the P-reduction value is included.\n",
        "\n",
        "**Acq**: Cartesian mode versus Radial or Spiral.\n",
        "\n",
        "**K-sp**: Profile order - linear, low-high and asymmetric (separate control over ES, i.e. blur / SNR ratio).\n",
        "\n",
        "**TR, TE**: Repetition and echo times. Notice that for parts of the anatomy large enough to avoid defaulting to a TR that compromises the desired fluid sensitivity in STIR sequences, the TR for inversion recovery is set to 'shortest'. Otherwise, the magnets are programmed to range between $\\small \\text{TR} = 3000-6000$ msec for STIR sequences.\n",
        "\n",
        "**FA (IR)**: Flip angle in degrees. In STIR sequence the IR delay in milliseconds is in parenthesis ($\\small ~190$ msec for $\\small 3.0$-Tesla; $\\small ~ 150$ msec for $\\small 1.5$-Tesla magnets). \n",
        "\n",
        "**TSE**: The TSE factor or ETL.\n",
        "\n",
        "**ES**: Echo spacing (from 6 to 10 msec) when specified.\n",
        "\n",
        "**DRIVE**: DRIVE is employed with TR values $\\small 3,000$ msec as a transverse magnetization RF spoiler. We don't use above this value since it incurs a time penalty; it's use allows reduction in TR values in the range of $\\small 1,800-2,500$ msec. versus $\\small 2,500-5,000.$ As discussed above anatomical coverage may limit automatic reductions in TR (on the lower boundary also limited by SAR).\n",
        "\n",
        "**WFS**: Water-fat shift in pixels / KHz (see above).\n",
        "\n",
        "**NSA**: NEX\n",
        "\n",
        "**FS pulse**: SPIR versus SPAIR: SPAIR in more homogeneous fat suppression than SPIR at the cost of increased imaging time.\n",
        "\n",
        "**Time:** The time ($\\small \\text{min : sec}$) is just orientative. In general, parameters are adjusted to keep scan time below $\\small ~4$ min.\n",
        "\n",
        "___\n",
        "\n",
        "#### TECHNICAL MODIFICATIONS FOR HARDWARE (MARS):\n",
        "\n",
        "1. Use 1.5-Tesla scanner (not 3-Tesla).\n",
        "2. Geometry: Decrease acquisition voxel size.\n",
        "3. Contrast: Reduce the WFS (higher bandwidth).\n",
        "4. Use STIR for fat suppression.\n",
        "5. Use O-MAR when available: Orthopedic Metal Artifact Reduction (O-MAR) is a combination of the MARS and View Angle Tilting (VAT) technique. VAT is an efficient technique for in-plane artifact correction. It uses an extra gradient in the slice select direction during the signal read-out, and the slice is effectively viewed from an angle.\n",
        "\n",
        "\n",
        "\n",
        "\n"
      ],
      "metadata": {
        "id": "uNeofUxk1RZc"
      }
    },
    {
      "cell_type": "markdown",
      "source": [
        "---\n",
        "---\n",
        "\n",
        "# **UPPER EXTREMITY**\n",
        "\n",
        "---\n",
        "---\n"
      ],
      "metadata": {
        "id": "i9Aj2AGffQ7_"
      }
    },
    {
      "cell_type": "markdown",
      "source": [
        "\n",
        "\n",
        "# **SHOULDER**\n",
        "\n",
        "||Unif|FoV|AcqVS (F$\\times$P)|AcqM (F$\\times$P)|RecVS|RecM|Slice|Gap|FOD|SBnd|OS|SENSE|Acq|K-sp|TR|TE|FA (IR)|TSE|ES|DRIVE|WFS|NSA|FS|Time\n",
        "|-||||||||||||||||||||||||-\n",
        "|`Sag PD`       |CLEAR|120-150|(0.50 - 0.55)$\\small\\times$(0.55 - 0.62) |(255 - 320)$\\times$(226 - 291)|0.30 - 0.35|400-450|3|Dflt|FH|1|40(H)$\\times$210(F)|1.5|Cartesian|Asym|1700-3000|30|90|$\\leq$12 |8|yes|0.8|1|NA|2:10\n",
        "|`Sag IR`    |CLEAR|120-150|(0.55 - 0.80)$\\small\\times$(0.75 - 1.40)|(150 - 291)$\\times$(85 - 200)|0.35 - 0.40|350-500|3|Dflt|FH|1|40(H)$\\times$210(F)|1.5|Cartesian|Asym|shortest (3000-6000)|25|90 (150-190)|$\\leq$12|8|no|1.5|2|NA|4:26\n",
        "|`Cor T1`       |CLEAR|120-150|(0.50 - 0.55)$\\small\\times$(0.55 - 0.62)  |(255 - 320)$\\times$(226 - 195)|0.3 - 0.35|400-450|3|Dflt|FH|1|50(H)$\\times$50(F)|1.2|Cartesian|Low-High|400 - 800|18|90|$\\leq$5|8|no|0.8|1$\\small \\vee$2|NA|3:40 (2:43 NSA=1)\n",
        "|`Cor T2 fs`       |CLEAR|120-150|(0.50 - 0.55)$\\small\\times$(0.55 - 0.62)  |(255 - 320)$\\times$(226 - 195)|0.3 - 0.35|400-450|3|Dflt|FH|1|20(H)$\\times$40(F)|1.5|Cartesian|Lin|500-650|18|90|$\\leq$5|8|yes|0.8|1$\\small \\vee$2|SPAIR|4:30 (3:30 NSA=1)\n",
        "|`Ax PD fs`     |CLEAR|120-150|(0.55 - 0.60)$\\small\\times$(0.60 - 0.65) |(233 - 291)$\\times$(215 - 267)|0.3 - 0.35|400-450|3|Dflt|RL|1|40(H)$\\times$40(F)|1.5|Cartesian|Asym|3000-6000|30|90|$\\leq$12|8|no|1.2|2|SPAIR|3:57  "
      ],
      "metadata": {
        "id": "pXM-DLhyGs39"
      }
    },
    {
      "cell_type": "markdown",
      "source": [
        "Prescription pointers:\n",
        "\n",
        "$\\small (1)$ Coronal oblique scans should be prescribed along the proximal humerus using a sagittal scout. Axial scans should be prescribed at a\n",
        "perpendicular plane to the proximal humerus.\n",
        "\n",
        "$\\small (2)$ Avoid excluding the acromion in any of the sequences.\n",
        "\n",
        "\n",
        "<img src=\"https://user-images.githubusercontent.com/96500190/150992782-84cd0de9-c723-4c23-999c-8f5eb0ec399f.png\" width=\"500\" height=\"470\" />"
      ],
      "metadata": {
        "id": "Tvdjql_9D12T"
      }
    },
    {
      "cell_type": "markdown",
      "source": [
        "---\n",
        "\n",
        "# **SHOULDER MR Arthrography**\n",
        "\n",
        "||Unif|FoV|AcqVS (F$\\times$P)|AcqM (F$\\times$P)|RecVS|RecM|Slice|Gap|FOD|SBnd|OS|SENSE|Acq|K-sp|TR|TE|FA (IR)|TSE|ES|DRIVE|WFS|NSA|FS|Time\n",
        "|-||||||||||||||||||||||||-\n",
        "|`Sag T1`       |CLEAR|110-140|(0.45 - 0.50)$\\small\\times$(0.55 - 0.60) |(244 - 280)$\\times$(182 - 233)|0.30 - 0.32|333-438|5|0.5|FH|1|40(H)$\\times$210(F)|1.5|Cartesian|Low-High|450-650|18|90|$\\leq$4 |8|yes|0.5|1|NA|2:14\n",
        "|`Sag T1 fs`    |CLEAR|110-140|(0.55 - 0.58)$\\small\\times$(0.6 - 0.62) |(200 - 241)$\\times$(167 - 226)|0.30 - 0.32|333-438|5|0.5|FH|1|40(H)$\\times$210(F)|1.5|Cartesian|Low-High|450-650|18|90|$\\leq$4 |8|yes|0.5|1|SPIR|4:30\n",
        "|`Cor T1 fs`       |CLEAR|110-150|(0.50 - 0.55)$\\small\\times$(0.55 - 0.62)  |(244 - 292)$\\times$(200 - 221)|0.3 - 0.40       |367-438|2|1|FH|1|50(H)$\\times$50(F)|1.2|Cartesian|Low-High|400 - 800|18|90|$\\leq$5|8|no|0.5|2|SPIR|6:14\n",
        "|`Cor T2 fs`       |CLEAR|140-150|(0.50 - 0.55)$\\small\\times$(0.55 - 0.62)  |(255 - 320)$\\times$(226 - 291)|0.3 - 0.40       |350-400|3|Dflt|FH|1|20(H)$\\times$40(F)|1.5|Cartesian|Lin|500-650|18|90|$\\leq$5|8|yes|0.8|2|SPAIR|4:30\n",
        "|`Ax T1`       |CLEAR|120-140|(0.45 - 0.50)$\\small\\times$(0.55 - 0.60) |(244 - 280)$\\times$(182 - 233)|0.30 - 0.32|333-438|5|0.5|RL|1|40(H)$\\times$40(F)|1.5|Cartesian|Low-High|450-650|18|90|$\\leq$4 |8|yes|0.5|1|NA|2:14\n",
        "|`ABER T1 fs`       |CLEAR|140-150|(0.55 - 0.58)$\\small\\times$(0.60 - 0.62) |(255 - 259)$\\times$(233 - 242)|0.30 - 0.32|460-470|5|0.5|FH|1|40(H)$\\times$40(F)|1.5|Cartesian|Low-High|450-650|18|90|$\\leq$4 |8|yes|0.5|1|SPIR|4:30"
      ],
      "metadata": {
        "id": "xkbdQbg9WLhZ"
      }
    },
    {
      "cell_type": "markdown",
      "source": [
        "---\n",
        "\n",
        "# **ELBOW**\n",
        "\n",
        "||Unif|FoV|AcqVS (F$\\times$P)|AcqM (F$\\times$P)|RecVS|RecM|Slice|Gap|FOD|SBnd|OS|SENSE|Acq|K-sp|TR|TE|FA (IR)|TSE|ES|DRIVE|WFS|NSA|FS|Time\n",
        "|-||||||||||||||||||||||||-\n",
        "|`Cor T1`       |CLEAR|100 - 120(sq$\\vee$rec)|(0.42 - 0.50)$\\small\\times$(0.55 - 0.60) |(238 - 240)$\\times$(182 - 200)|0.3 - 0.35|286-400|3|Dflt|FH(by body); RL(overhead)|0|40(H)$\\times$40(F)|1.2|Cartesian|Low-High|2500-5500|30|90|$\\leq$10 |8|yes|0.8|2|NA|2:33\n",
        "|`Cor PD fs`       |CLEAR|100 - 120(sq$\\vee$rec)|(0.42 - 0.48)$\\small\\times$(0.54 - 0.58) |(238 - 250)$\\times$(185 - 207)|0.3 - 0.35|286-400|3|Dflt|FH(by body); RL(overhead)|0|40(H)$\\times$40(F)|1.2|Cartesian|Asym|500-650|30|90|$\\leq$10 |8|no|1.5|2|SPIR|3:32\n",
        "|`Cor IR`       |CLEAR|100 - 120|(0.47 - 0.55)$\\small\\times$(0.55 - 0.70) |(213 - 218)$\\times$(171 - 182)|0.3 - 0.35|286-400|3|Dflt|FH(by body); RL(overhead)|0|40(H)$\\times$40(F)|1.2|Cartesian|Lin|3000-6000|24|90(150-190)|$\\leq$8 |8|no|1.5|2|NA|3:42\n",
        "|`Sag PD fs`       |CLEAR|100 - 120(sq$\\vee$rec)|(0.42 - 0.48)$\\small\\times$(0.54 - 0.58) |(238 - 250)$\\times$(185 - 207)|0.3 - 0.35|286-400|3|Dflt|FH(by body); RL(overhead)|0|40(H)$\\times$40(F)|1.2|Cartesian|Asym|2500-5500|30|90|$\\leq$10 |8|no|1.5|2|SPAIR|3:32\n",
        "|`Ax PD fs`       |CLEAR|100 - 120(sq$\\vee$rec)|(0.42 - 0.48)$\\small\\times$(0.54 - 0.58) |(238 - 250)$\\times$(185 - 207)|0.3 - 0.35|286-400|3|Dflt|FH(by body); RL(overhead)|0|40(H)$\\times$40(F)|1.2|Cartesian|Asym|2500-5500|30|90|$\\leq$10 |8|no|1.5|2|SPAIR|2:50\n",
        "|`Ax T2`       |CLEAR|100 - 120(sq$\\vee$rec)|(0.46 - 0.48)$\\small\\times$(0.56 - 0.60) |(217 - 250)$\\times$(179 - 200)|0.3 - 0.35|286-400|3|Dflt|FH(by body); RL(overhead)|0|40(H)$\\times$40(F)|1.2|Cartesian|Lin|2500-5500|55|90|$\\leq$12 |8|no|1.5|2|NA|3:36\n",
        "\n"
      ],
      "metadata": {
        "id": "azmxzLzLZf_C"
      }
    },
    {
      "cell_type": "markdown",
      "source": [
        "Prescription pointer:\n",
        "\n",
        "![](https://user-images.githubusercontent.com/96500190/150993085-bc5257b2-4b20-4dc2-a4b1-5d220524d02e.png)\n",
        "\n",
        "The bicipital tuberosity should be included in all sequences.\n",
        "\n",
        "![](https://user-images.githubusercontent.com/96500190/150992854-3cf3f849-3bc3-40ef-9186-979997d32fa6.png)\n",
        "\n",
        "Coronal sequences should be prescribed considering a line joining the medial to the lateral epicondyles. \n",
        "\n"
      ],
      "metadata": {
        "id": "p1TPXd7N2abe"
      }
    },
    {
      "cell_type": "markdown",
      "source": [
        "---\n",
        "\n",
        "# **WRIST**\n",
        "\n",
        "||Unif|FoV|AcqVS (F$\\times$P)|AcqM (F$\\times$P)|RecVS|RecM|Slice|Gap|SSO|FOD|SBnd|OS|SENSE|Acq|K-sp|TR|TE|FA (IR)|TSE|ES|DRIVE|WFS|NSA|FS|Time\n",
        "|-|||||||||||||||||||||||||-\n",
        "|`Cor T1`       |CLEAR|80 - 100 (sq)|(0.34 - 0.40)$\\small\\times$(0.45 - 0.50) |(235 - 250)$\\times$(178 - 200)|0.3|333-267|3|0|Intrlvd|RL|0|no|no|Cartesian|Lin|400-650|18|90|$\\leq$5 |10|no|0.8|3|NA|~2:30\n",
        "|`Cor PD fs`  |CLEAR|80 - 100 (sq)|(0.35 - 0.40)$\\small\\times$(0.47 - 0.50) |(229 - 250)$\\times$(170 - 200)|0.3|333-267|3|0|Intrlvd|RL|0|no|no|Cartesian|Asym|1800-3000|30|90|$\\leq$12|8|yes|1.5|2|SPIR|~2:30\n",
        "|`Cor IR (optional/fallback)`    |CLEAR|80 - 100 (sq)|(0.45 - 0.50)$\\small\\times$(0.50 - 0.55) |(160 - 222)$\\times$(160 - 200)|0.3|333-267|3|Dflt|Dflt|RL|0|no|no|Cartesian|Asym|3000-6000|25|90 (150 -190)|$\\leq$8|8|no|1.5|2|NA|~2:30\n",
        "|`Cor 3D FFE IP`|CLEAR|80 - 100 (sq)|(0.4 - 0.44) (sq) |(200 - 2227) (sq) |0.26 - 0.3|308-333|1|0|Intrlvd|AP|0|default|1.2(P-red RL)/1(S-red AP)|Cartesian|-|30|13 in-phase|15|NA|-|no|2|1|NA|2:01\n",
        "|`Ax PD fs`     |CLEAR|80 - 100 (sq)|(0.38 - 0.42)$\\small\\times$(0.46 - 0.50) |(238 - 263)$\\times$(200 - 217)|0.3 - 0.35|333-286|3|Dflt|Dflt|AP|0|30(P)$\\times$30(A)|no|Cartesian|Asym|1800 - 3000|30|90|$\\leq$12|8|no|1.2|2|SPIR|~2:00  \n",
        "|`Ax T2`     |CLEAR|80 - 100 (sq)|(0.36 - 0.42)$\\small\\times$(0.46 - 0.50) |(190 - 222)$\\times$(174 - 160)|0.3 - 0.35|229-267|3|Dflt|Dflt|AP|0|30(P)$\\times$30(A)|no|Cartesian|Lin|3000 - 6000|55|90|$\\leq$14|8|no|1.2|2|NA|~2:30  \n",
        "|`Sag PD fs`     |CLEAR|80 - 100 (sq)|(0.34 - 0.42)$\\small\\times$(0.40 - 0.50) |(238 - 292)$\\times$(200 - 250)|0.3 - 0.35|333-286|4|0|Intrlvd|AP|0|50(P)$\\times$ 50(A)|no|Cartesian|Lin|1800 - 3000|30|90|$\\leq$10|8|no|1.5|2|SPIR|~3:00"
      ],
      "metadata": {
        "id": "lk2FNUdMsUwm"
      }
    },
    {
      "cell_type": "markdown",
      "source": [
        "Prescription pointer:\n",
        "\n",
        "$\\small (1)$ Avoid distorting the alignment during the placement in the wrist coil.\n",
        "\n",
        "$\\small (2)$ Center the carpus in the 'sweet spot' of the coil.\n",
        "\n",
        "<img src=\"https://user-images.githubusercontent.com/96500190/151025274-40e13d25-3777-4c88-aa22-8ce217c05faa.png\" width=\"450\" height=\"450\" />"
      ],
      "metadata": {
        "id": "Wl2ol5MwOwTw"
      }
    },
    {
      "cell_type": "markdown",
      "source": [
        "---\n",
        "\n",
        "# **THUMB and FINGERS**\n",
        "\n",
        "||Unif|FoV|AcqVS (F$\\times$P)|AcqM (F$\\times$P)|RecVS|RecM|Slice|Gap|SSO|FOD|SBnd|OS|SENSE|Acq|K-sp|TR|TE|FA (IR)|TSE|ES|DRIVE|WFS|NSA|FS|Time\n",
        "|-|||||||||||||||||||||||||-\n",
        "|`Cor T1`       |CLEAR|80 - 120 (sq$\\vee$rec)|(0.30 - 0.35)$\\small\\times$(0.45 - 0.50) |(267 - 343)$\\times$(178 - 240)|0.25-0.3|320-400|3|0|Intrlvd|RL|0|no|no|Cartesian|Lin|400-650|18|90|$\\leq$6 |10|no|0.8|2|NA|3:18\n",
        "|`Cor PD fs`  |CLEAR|80 - 120 (sq$\\vee$rec)|(0.30 - 0.35)$\\small\\times$(0.45 - 0.50) |(267 - 343)$\\times$(178 - 240)|0.25-0.3|320-333|3|0|Intrlvd|RL|0|no|no|Cartesian|Asym|1800-3000|30|90|$\\leq$10|8|yes|1.5|2|SPAIR|2:45\n",
        "|`Cor IR`    |CLEAR|80 - 120 (sq$\\vee$rec)|(0.35 - 0.45)$\\small\\times$(0.55 - 0.58) |(229 - 267)$\\times$(145 - 207)|0.3-0.35|267-343|3|Dflt|Intrlvd|RL|0|no|no|Cartesian|Asym|3000-6000|25|90 (150-190)|$\\leq$8|8|no|1.5|2|NA|3:17\n",
        "|`Cor 3D FFE IP`|CLEAR|80 - 120 (sq$\\vee$rec)|(0.4 - 0.44) (rec) |(200 - 2227) (sq) |0.26 - 0.3|308-333|1|0|Intrlvd|AP|0|default|1.2(P-red RL)/1(S-red AP)|Cartesian|-|30|13 in-phase|15|NA|-|no|2|1|NA|2:01\n",
        "|`Ax T1`       |CLEAR|60 - 60 (sq)|(0.32 - 0.38)$\\small\\times$(0.45 - 0.50) |(158 - 188)$\\times$(120 - 133)|0.25-0.35|171-240|3|0.3|Intrlvd|RL|0|no|no|Cartesian|Lin|400-650|18|90|$\\leq$6 |10|no|0.8|2|NA|5:17  \n",
        "|`Ax T2 fs`     |CLEAR|60 - 60 (sq)|(0.32 - 0.38)$\\small\\times$(0.45 - 0.50) |(158 - 188)$\\times$(120 - 133)|0.25-0.35|171-240|3|Dflt|Dflt|AP|0|30(P)$\\times$30(A)|no|Cartesian|Lin|shortest|55|90|$\\leq$12|8|no|1.2|2|SPIR|4:35  \n",
        "|`Sag PD fs`     |CLEAR|60 - 120 (rec)|(0.30 - 0.35)$\\small\\times$(0.45 - 0.50) |(200 - 343)$\\times$(133 - 240)|0.25-0.35|171-343|3|0|Intrlvd|AP|0|50(P)$\\times$ 50(A)|no|Cartesian|Lin|1800 - 3000|30|90|$\\leq$10|8|no|1.5|2|SPIR|3:43\n"
      ],
      "metadata": {
        "id": "8ooA2I7qcWsj"
      }
    },
    {
      "cell_type": "markdown",
      "source": [
        "Prescription pointers:\n",
        "\n",
        "1.   Prescribe coronals along the sesamoid bones (arrows) of the first metacarpophalangeal joint.\n",
        "\n",
        "![](https://user-images.githubusercontent.com/96500190/150992920-fc673b51-f057-47ae-a110-418a684f5481.png)\n",
        "2.   The MRI studies of the thumb should include proximally the first carpometacarpal articulation. In the case of the fingers, the studies should include proximally the metacarpophalangeal joints of the finger involved and at least the two adjacent ones. Note that in the case of the fingers, the FoV may need to be increased to $140$ occasionally; however, the carpal bones are not included.\n",
        "\n",
        "\n"
      ],
      "metadata": {
        "id": "KEKHneCp0BN3"
      }
    },
    {
      "cell_type": "markdown",
      "source": [
        "---\n",
        "\n",
        "# **STERNUM**\n",
        "\n",
        "||Unif|FoV|AcqVS (F$\\times$P)|AcqM (F$\\times$P)|RecVS|RecM|Slice|Gap|FOD|SBnd|OS|SENSE|Acq|K-sp|TR|TE|FA (IR)|TSE|ES|DRIVE|WFS|NSA|FS|Time\n",
        "|-||||||||||||||||||||||||-\n",
        "|`Cor T1`       |Body-tuned|200-220(FH)$\\times$ 50-70(RL) (rect)|(0.6(RL)-1.2(FH)) × (0.8(RL)-1.50(FH)) |(167 - 113)(FH)$\\times$(83 - 63)(RL)|0.40-0.45|111-500|2|Dflt|FH|1|20(H);150(F)|1.2|Cartesian|Low-High|400-700|18|90|$\\leq$6 |Deflt|no|0.8|1|NA|2:42\n",
        "|`Cor T2 fs`     |Body-tuned|200-220(FH)$\\times$ 50-70(RL) (rect)|(0.6(RL)-1.2(FH)) × (0.8(RL)-1.50(FH)) |(167 - 113)(FH)$\\times$(83 - 63)(RL)|0.40-0.45|111-500|2|Dflt|FH|1|20(H);150(F)|1.5|Cartesian|Lin|1600-3000|55|90|$\\leq$14 |6|no|2|2|SPIR|3:24\n",
        "|`Cor IR`       |Body-tuned|200-220(FH)$\\times$ 50-70(RL) (rect)|(0.8(RL)-1.4(FH)) × (1.0(RL)-1.8(FH)) |(143 - 111)(FH)$\\times$(63 - 50)(RL)|0.40-0.45|111-500|3|Dflt|FH|0|20(H);105(F)|1.2|Cartesian|Lin|3000-6000|24|90(150-190)|$\\leq$8 |Deflt|no|0.8|1|NA|2:30\n",
        "|`Ax T1`       |Body-tuned|80-100(RL)$\\times$50-70(AP)  (rect)|(0.6(AP) - 1.2(RL)) × (0.8(AP) - 1.50(RL)) |(83 - 67)(RL)$\\times$(117 - 67)(AP)|0.40-0.45|100-222|5|Dflt|RL|0|150(L);150(R)|1.2|Cartesian|Low-High|400-700|18|90|$\\leq$6 |Deflt|no|0.8|1|NA|2:11\n",
        "|`Ax T2 fs`     |Body-tuned|80-100(RL)$\\times$50-70(AP)  (rect)|(0.6(AP) - 1.2(RL)) × (0.8(AP) - 1.50(RL)) |(83 - 67)(RL)$\\times$(117 - 67)(AP)|0.40-0.45|100-222|5|Dflt|RL|no|115(L);80(R)|1.5|Cartesian|Lin|1600-3000|55|90|$\\leq$14 |6|no|2|2|SPIR|3:24\n",
        "|`Sag T2 fs`     |Body-tuned|200-220(FH)$\\times$50-70(AP)  (rect)|(0.6(AP) - 1.2(FH)) × (0.8(AP) - 1.50(FH))   |(67 - 117)(AP)$\\times$(167 - 183)(FH)|0.4-0.45|300-356|4|Dflt|AP|no|100(A);100(P)|1.5|Cartesian|Lin|1600-3000|55|90|$\\leq$14 |6|no|2|2|SPIR|3:24"
      ],
      "metadata": {
        "id": "4towMP195HOb"
      }
    },
    {
      "cell_type": "markdown",
      "source": [
        "---\n",
        "---\n",
        "# **LOWER EXTREMITY**\n",
        "---\n",
        "---"
      ],
      "metadata": {
        "id": "R4r2y8JDf32X"
      }
    },
    {
      "cell_type": "markdown",
      "source": [
        "\n",
        "\n",
        "# **HIP**\n",
        "\n",
        "### Sequences through the entire pelvis:\n",
        "\n",
        "||Unif|FoV|AcqVS (F$\\times$P)|AcqM (F$\\times$P)|RecVS|RecM|Slice|Gap|FOD|SBnd|OS|SENSE|Acq|K-sp|TR|TE|FA (IR)|TSE|ES|DRIVE|WFS|NSA|FS|Time\n",
        "|-||||||||||||||||||||||||-\n",
        "|`Ax T1`       |Body-tuned|350(RL) - 280(AP) (rect)|(0.7 - 1.2)$\\small\\times$(0.80 - 1.30) |(292 - 371)$\\times$(269 - 325)|0.40-0.45|650-780|5|Dflt|RL|0|150(L);150(R)|1.2|Cartesian|Low-High|400-700|18|90|$\\leq$6 |Deflt|no|0.8|1|NA|2:11\n",
        "|`Ax in- & out-of-phase`|Body-tuned|350(RL) - 280(AP) (rect)|(1 - 1.3)$\\small\\times$(1.30 - 1.50) |(382 - 269)$\\times$(169 - 285)|0.32-0.45|688-778|6|Dflt|RL|2|no|2|Cartesian|Low-High|shortest|2.3(out-of-phase)/4.6(in-phase)|75|-|Deflt|no|0.8|1|NA|01:31\n",
        "|`Cor T1`       |Body-tuned|350(RL) - 280(FH) (rect)|(0.7 - 1.2)$\\small\\times$(0.80 - 1.30) |(292 - 371)$\\times$(269 - 325)|0.40-0.45|650-780|5|Dflt|FH|0|150(H);150(F)|1.2|Cartesian|Low-High|400-700|18|90|$\\leq$6 |Deflt|no|0.8|1|NA|2:42\n",
        "|`Cor IR`       |Body-tuned|350(RL) - 280(FH) (rect)|(0.85 - 1.4)$\\small\\times$(1.20 - 1.50) |(250 - 306)$\\times$(217 - 233)|0.45|578-778|5|Dflt|FH|0|105(H);105(F)|1.2|Cartesian|Lin|shortest (3000-6000)|24|90(150-190)|$\\leq$8 |Deflt|no|0.8|1|NA|2:30\n",
        "\n",
        "### Sequences limited to the painful hip:\n",
        "\n",
        "||Unif|FoV|AcqVS (F$\\times$P)|AcqM (F$\\times$P)|RecVS|RecM|Slice|Gap|FOD|SBnd|OS|SENSE|Acq|K-sp|TR|TE|FA (IR)|TSE|ES|DRIVE|WFS|NSA|FS|Time\n",
        "|-||||||||||||||||||||||||-\n",
        "|`Sag T1`       |Body-tuned|140 - 160 (sq$\\vee$rec)|(0.65 - 0.75)$\\small\\times$(0.78 - 0.85) |(214 - 230)$\\times$(192 - 188)|0.3-0.45|356-500|3|Dflt|AP|no|70(P);50(A)|1.5|Cartesian|Hig-Low|400-650|18|90|$\\leq$6 |10|no|0.8|2|NA|2:28\n",
        "|`Sag PD fs`     |Body-tuned|140 - 160 (sq$\\vee$rec)|(0.65 - 0.75)$\\small\\times$(0.78 - 0.85) |(214 - 230)$\\times$(192 - 188)|0.3-0.45|356-500|4|Dflt|AP|no|55(P);50(A)|1.5|Cartesian|Hig-Low|1600-3000|35|90|$\\leq$12 |6|no|2|2|SPAIR|3:44\n",
        "|`Ax oblique PD fs`     |Body-tuned|140 - 160 (sq$\\vee$rec)|(0.65 - 0.75)$\\small\\times$(0.78 - 0.85) |(214 - 230)$\\times$(192 - 188)|0.3-0.45|356-500|4|Dflt|RL|no|115(L);80(R)|1.5|Cartesian|Asymm|1600-3000|35|90|$\\leq$12 |6|no|2|2|SPAIR|3:49\n",
        "|`Ax T2 fs`     |Body-tuned|140 - 160 (sq$\\vee$rec)|(0.65 - 0.75)$\\small\\times$(0.78 - 0.85) |(214 - 230)$\\times$(192 - 188)|0.3-0.45|356-500|4|Dflt|RL|no|115(L);80(R)|1.5|Cartesian|Lin|1600-3000|55|90|$\\leq$14 |6|no|2|2|SPIR|3:24\n",
        "|`Cor T2 fs`     |Body-tuned|140 - 160 (sq$\\vee$rec)|(0.65 - 0.75)$\\small\\times$(0.78 - 0.85) |(214 - 230)$\\times$(192 - 188)|0.3-0.45|356-500|4|Dflt|RL|no|115(L);80(R)|1.5|Cartesian|Hig-Low|1600-3000|55|90|$\\leq$14 |6|no|2|2|SPIR|3:24"
      ],
      "metadata": {
        "id": "72YHkutsDKUi"
      }
    },
    {
      "cell_type": "markdown",
      "source": [
        "---\n",
        "\n",
        "# **HIP MR Arthrography**\n",
        "\n",
        "### Sequences through the entire pelvis:\n",
        "\n",
        "||Unif|FoV|AcqVS (F$\\times$P)|AcqM (F$\\times$P)|RecVS|RecM|Slice|Gap|FOD|SBnd|OS|SENSE|Acq|K-sp|TR|TE|FA (IR)|TSE|ES|DRIVE|WFS|NSA|FS|Time\n",
        "|-||||||||||||||||||||||||-\n",
        "|`Cor T1`       |Body-tuned|350(RL) - 280(FH) (rect)|(0.7 - 1.2)$\\small\\times$(0.80 - 1.30) |(292 - 371)$\\times$(269 - 325)|0.40-0.45|650-780|5|Dflt|FH|0|150(H);150(F)|1.2|Cartesian|Low-High|400-700|18|90|$\\leq$6 |Deflt|no|0.8|1|NA|4:40\n",
        "|`Cor IR`       |Body-tuned|350(RL) - 280(FH) (rect)|(0.85 - 1.4)$\\small\\times$(1.20 - 1.50) |(250 - 306)$\\times$(217 - 233)|0.45|578-778|5|Dflt|FH|0|105(L);105(R)|1.2|Cartesian|Lin|shortest|24|90(150-190)|$\\leq$8 |Deflt|no|0.8|1|NA|4:37\n",
        "\n",
        "### Sequences limited to the painful hip:\n",
        "\n",
        "||Unif|FoV|AcqVS (F$\\times$P)|AcqM (F$\\times$P)|RecVS|RecM|Slice|Gap|FOD|SBnd|OS|SENSE|Acq|K-sp|TR|TE|FA (IR)|TSE|ES|DRIVE|WFS|NSA|FS|Time\n",
        "|-||||||||||||||||||||||||-\n",
        "|`Sag T1`       |Body-tuned|(90-100)(AP)-(110-140)(FH)|(0.46 - 0.54)$\\small\\times$(0.54 - 0.60) |(233 - 348)$\\times$(198 - 313)|0.3-0.35|357-537|3|Dflt|AP|no|70(P);50(A)|1.5|Cartesian|Hig-Low|400-650|18|90|$\\leq$6 |10|no|0.8|2|SPIR|~3:00\n",
        "|`Sag T2 fs`     |Body-tuned|140 - 160 (sq$\\vee$rec)|(0.65 - 0.75)$\\small\\times$(0.78 - 0.85) |(214 - 230)$\\times$(192 - 188)|0.3-0.45|356-500|4|Dflt|RL|no|115(L);80(R)|1.5|Cartesian|Hig-Low|1600-3000|55|90|$\\leq$14 |6|no|2|2|SPIR|4:48\n",
        "|`Cor T1 fs`     |Body-tuned|100 - 120 (sq$\\vee$rec)|(0.46 - 0.54)$\\small\\times$(0.54 - 0.60) |(217 - 222)$\\times$(185 - 200)|0.3-0.35|333-343|3|Dflt|AP|no|55(P);50(A)|1.5|Cartesian|Hig-Low|400-650|18|90|$\\leq$6 |6|no|2|2|SPIR|5:30\n",
        "|`Ax oblique T1`     |Body-tuned|100 - 120 (sq$\\vee$rec)|(0.46 - 0.54)$\\small\\times$(0.54 - 0.60) |(217 - 222)$\\times$(185 - 200)|0.3-0.35|333-343|3|Dflt|RL|no|115(L);80(R)|1.5|Cartesian|Hig-Low|400-650|18|90|$\\leq$6 |6|no|2|2|SPIR|~4:00\n"
      ],
      "metadata": {
        "id": "TUZuZ1mkQ7bH"
      }
    },
    {
      "cell_type": "markdown",
      "source": [
        "---\n",
        "\n",
        "# **OSSEOUS PELVIS**\n",
        "\n",
        "(Also included under **Hip**)\n",
        "\n",
        "||Unif|FoV|AcqVS (F$\\times$P)|AcqM (F$\\times$P)|RecVS|RecM|Slice|Gap|FOD|SBnd|OS|SENSE|Acq|K-sp|TR|TE|FA (IR)|TSE|ES|DRIVE|WFS|NSA|FS|Time\\\n",
        "|-||||||||||||||||||||||||-\n",
        "|`Ax T1`       |Body-tuned|350(RL) - 280(AP) (rect)|(0.7 - 1.2)$\\small\\times$(0.80 - 1.30) |(292 - 371)$\\times$(269 - 325)|0.40-0.45|650-780|5|Dflt|RL|0|150(L);150(R)|1.2|Cartesian|Low-High|400-700|18|90|$\\leq$6 |Deflt|no|0.8|1|NA|2:11\n",
        "|`Ax T2 fs`     |Body-tuned|350(RL) - 280 (AP) (rect)|(0.75 - 1.20)$\\small\\times$(0.85 - 1.30) |(292 - 373)$\\times$(269 - 329)|0.4-0.45|700-778|4|Dflt|RL|no|115(L);80(R)|1.5|Cartesian|Lin|1600-3000|55|90|$\\leq$14 |6|no|2|2|SPIR|3:24\n",
        "|`Ax in- & out-of-phase`|Body-tuned|350(RL) - 280(AP) (rect)|(1 - 1.3)$\\small\\times$(1.30 - 1.50) |(382 - 269)$\\times$(169 - 285)|0.32-0.45|688-778|6|Dflt|RL|2|no|2|Cartesian|Low-High|shortest|2.3(out-of-phase)/4.6(in-phase)|75|-|Deflt|no|0.8|1|NA|01:31\n",
        "|`Cor T1`       |Body-tuned|350(RL) - 280(FH) (rect)|(0.7 - 1.2)$\\small\\times$(0.80 - 1.30) |(292 - 371)$\\times$(269 - 325)|0.40-0.45|650-780|5|Dflt|RL|0|150(L);150(R)|1.2|Cartesian|Low-High|400-700|18|90|$\\leq$6 |Deflt|no|0.8|1|NA|2:42\n",
        "|`Cor IR`       |Body-tuned|350(RL) - 280(FH) (rect)|(0.85 - 1.4)$\\small\\times$(1.20 - 1.50) |(250 - 306)$\\times$(217 - 233)|0.45|578-778|5|Dflt|RL|0|105(L);105(R)|1.2|Cartesian|Lin|shortest (3000-6000)|24|90(150-190)|$\\leq$8 |Deflt|no|0.8|1|NA|2:30"
      ],
      "metadata": {
        "id": "UVbbUOOsnqg2"
      }
    },
    {
      "cell_type": "markdown",
      "source": [
        "---\n",
        "\n",
        "# **SACRUM and SACROILIAC JOINTS**\n",
        "\n",
        "||Unif|FoV|AcqVS (F$\\times$P)|AcqM (F$\\times$P)|RecVS|RecM|Slice|Gap|FOD|SBnd|OS|SENSE|Acq|K-sp|TR|TE|FA (IR)|TSE|ES|DRIVE|WFS|NSA|FS|Time\n",
        "|-||||||||||||||||||||||||-\n",
        "|`Cor T1`       |Body-tuned|130-180 (sq$\\vee$rec)|(0.7 - 1.2) × (1.30 - 1.50) |(150 - 186)$\\times$(100 - 120)|0.40-0.45|325-400|2|Dflt|FH|0|150(H);150(F)|1.2|Cartesian|Low-High|400-700|18|90|$\\leq$6 |Deflt|no|0.8|1|NA|2:42\n",
        "|`Cor T2 fs`     |Body-tuned|130-180 (sq$\\vee$rec)|(0.80 - 1.20)$\\small\\times$(1.50 - 1.70) |(150 - 163)$\\times$(87 - 106)|0.4-0.45|325-400|2|Dflt|FH|0|150(H);150(F)|1.5|Cartesian|Linear|1600-3000|55|90|$\\leq$14 |6|no|2|2|SPIR|3:24\n",
        "|`Cor IR`       |Body-tuned|130-180 (sq$\\vee$rec)|(1.00 - 1.40)$\\small\\times$(1.60 - 1.80) |(129 - 130)$\\times$(81 - 100)|0.45-0.50|289-360|3|Dflt|FH|0|105(H);105(F)|1.2|Cartesian|Lin|shortest (3000-6000)|24|90(150-190)|$\\leq$8 |Deflt|no|0.8|1|NA|2:30\n",
        "|`Ax T1`       |Body-tuned|130-180 (sq$\\vee$rec)|(0.7 - 1.2) × (1.30 - 1.50) |(150 - 186)$\\times$(100 - 120)|0.40-0.45|325-400|5|Dflt|RL|0|150(L);150(R)|1.2|Cartesian|Low-High|400-700|18|90|$\\leq$6 |Deflt|no|0.8|1|NA|2:11\n",
        "|`Ax T2 fs`     |Body-tuned|130-180 (sq$\\vee$rec)|(0.7 - 1.2) × (1.30 - 1.50) |(150 - 186)$\\times$(100 - 120)|0.40-0.45|325-400|5|Dflt|RL|no|115(L);80(R)|1.5|Cartesian|Lin|1600-3000|55|90|$\\leq$14 |6|no|2|2|SPIR|3:24\n",
        "|`Sag T2 fs`     |Body-tuned|(140-160)(FH)$\\times$(120-140)(AP) (rec)|(0.80 - 1.20)$\\small\\times$(1.50 - 1.70)  |(133 - 150)$\\times$(80 - 94)|0.4-0.45|300-356|4|Dflt|AP|no|100(A);100(P)|1.5|Cartesian|Lin|1600-3000|55|90|$\\leq$14 |6|no|2|2|SPIR|3:24"
      ],
      "metadata": {
        "id": "mf0VLq6rC07l"
      }
    },
    {
      "cell_type": "markdown",
      "source": [
        "Prescription pointers:\n",
        "\n",
        "Coronal sequences are prescribed parallel to the sacrum, whereas axial sequences are perpendicular to the sagittal axis of the sacrum:\n",
        "\n",
        "<img src=\"https://user-images.githubusercontent.com/96500190/151021070-ce1bf32a-b03d-4758-bf63-187fc6e34a68.png\" width=\"550\" height=\"500\" />\n",
        "\n"
      ],
      "metadata": {
        "id": "CkmBjRV04IDE"
      }
    },
    {
      "cell_type": "markdown",
      "source": [
        "---\n",
        "\n",
        "# **KNEE**\n",
        "\n",
        "||Unif|FoV|AcqVS (F $\\times$ P)|AcqM (F$\\times$P)|RecVS|RecM|Slice|Gap|FOD|SBnd|OS|SENSE|Acq|K-sp|TR|TE|FA(IP)|TSE|ES|DRIVE|WFS|NSA|FS|Time\n",
        "|-||||||||||||||||||||||||-\n",
        "|`Cor T1`       |CLEAR|120-140(sq$\\vee$rec)|(0.40 - 0.50) $\\small\\times$ (0.55 - 0.68)|(292 - 300)$\\times$(206 - 218)|0.30 - 0.35|400-450|3|Dflt|FH|no|no|1.2|Cartesian|Asym|500-800|18|90|$\\leq$3 |8|no|0.8|2|NA|~3:30\n",
        "|`Cor PD fs`    |CLEAR|120-140(sq$\\vee$rec)|(0.45 - 0.50) $\\small\\times$ (0.58 - 0.68)|(280 - 267)$\\times$(215 - 200)|0.3 - 0.35|375-470|3|Dflt|FH|no|no|1.2|Cartesian|Asym|1800-3000|30|90|$\\leq$10|8|yes|1.2|2|SPIR|~3:30\n",
        "|`Sag PD`       |CLEAR|120-140(sq$\\vee$rec)|(0.37 - 0.48) $\\small\\times$ (0.50 - 0.64)|(292 - 324)$\\times$(219 - 240)|0.30 - 0.35|400-440|3|Dflt|FH|no|no|1.2|Cartesian|Asym|1800-3000|30|90|$\\leq$10|8|yes|1.2|2|NA|~3:30\n",
        "|`Sag T2 fs`    |CLEAR|120-140(sq$\\vee$rec)|(0.46 - 0.54) $\\small\\times$ (0.58 - 0.70)|(259 - 286)$\\times$(210 - 200)|0.3 - 0.35|375-470|3|Dflt|FH|no|no|1.2|Cartesian|Asym|2700-6000|55|90|$\\leq$14|8|yes|1.2|2|SPIR|~3:15\n",
        "|`Ax PD fs`     |CLEAR|120-140(sq)|(0.45 - 0.50) $\\small\\times$ (0.58 - 0.68)|(280 - 267)$\\times$(215 - 200)|0.3 - 0.35|375-470|3|Dflt|RL|no|no|1.2|Cartesian|Asym|1800-3000|30|90|$\\leq$10|8|yes|1.2|2|SPIR|~4:00  \n",
        "\n"
      ],
      "metadata": {
        "id": "Lo3Lk4HO4U0J"
      }
    },
    {
      "cell_type": "markdown",
      "source": [
        "---\n",
        "\n",
        "# **ANKLE**\n",
        "\n",
        "||Unif|FoV|AcqVS (F $\\times$ P)|AcqM (F$\\times$P)|RecVS|RecM|Slice|Gap|FOD|SBnd|OS|SENSE|Acq|K-sp|TR|TE|FA(IP)|TSE|ES|DRIVE|WFS|NSA|FS|Time\n",
        "|-||||||||||||||||||||||||-\n",
        "|`Sag T1`       |CLEAR|150-160|(0.50 - 0.55) $\\small\\times$ (0.60 - 0.65)|(267 - 320)$\\times$(231 - 267)|0.3 - 0.35|375-400|3|Dflt|AP|no|70(A) × 30(P)|no|Cartesian|Asym|500-800|18|90|$\\leq$6 |8|no|0.8|2|NA|3:47\n",
        "|`Sag STIR`    |CLEAR|155-160|(0.60 - 0.65) $\\small\\times$ (0.65 - 0.70)|(231 - 267)$\\times$(214 - 246)|0.45 - 0.50|320-300|3|Dflt|AP|no|70(A) × 30(P)|1.2|Cartesian|Asym|3000-6000|25|90 (150-190)|$\\leq$10|8|yes|1.5|2|NA|5:24\n",
        "|`Ax PD`     |CLEAR|140-150|(0.45 - 0.50) $\\small\\times$ (0.57 - 0.60)|(280 - 333)$\\times$(233 - 263)|0.3 - 0.35|439-467|3|Dflt|RL|no|40(R) × 40(L)|1.2|Cartesian|Asym|1800-3000|30|90|$\\leq$10|8|yes|1.2|2|NA|2:55\n",
        "|`Ax T2 fs`     |CLEAR|140-150|(0.53 - 0.55) $\\small\\times$ (0.56 - 0.60)|(255 - 283)$\\times$(233 - 268)|0.4 - 0.45 |333-350|3|Dflt|RL|no|40(R) × 40(L)|1.2|Cartesian|Asym|shortest|55|90|$\\leq$12|8|yes|1.2|2|SPIR|5:07\n",
        "|`Cor PD fs`    |CLEAR|(100-120)(RL)$\\small \\times$(120-150)(FH)(rec)|(0.4 - 0.55) $\\small\\times$ (0.52 - 0.60)|(218-250)(RL)(273-300)(FH) $\\times$(192-200)(RL)(231 - 250)|0.4 - 0.45 |250-375|3|Dflt|RL|no|no|1.2|Cartesian|Asym|1800-3000|30|90|$\\leq$10|8|yes|1.5|2|SPAIR|3:28\n"
      ],
      "metadata": {
        "id": "Z_je_umX2jGD"
      }
    },
    {
      "cell_type": "markdown",
      "source": [
        "---\n",
        "\n",
        "# **FOOT**\n",
        "\n",
        "||Unif|FoV|AcqVS (F $\\times$ P)|AcqM (F$\\times$P)|RecVS|RecM|Slice|Gap|FOD|SBnd|OS|SENSE|Acq|K-sp|TR|TE|FA(IP)|TSE|ES|DRIVE|WFS|NSA|FS|Time\n",
        "|-||||||||||||||||||||||||-\n",
        "|`Sag T1`       |CLEAR|100 (FH) $\\times$ 130-150 (AP)|(0.50 - 0.55) $\\small\\times$ (0.65 - 0.70)|(236 - 300)$\\times$(236 - 250)|0.3 - 0.35|375-400|3|Dflt|FH|no|20(H) × 20(F)|1.2|Cartesian|Asym|500-800|18|90|$\\leq$6 |shortest|no|0.8|2|NA|1:55\n",
        "|`Sag STIR`    |CLEAR|100 (FH) $\\times$ 130-150 (AP)|(0.60 - 0.65) $\\small\\times$ (0.7 - 0.85)|(215 - 250)$\\times$(165 - 214)|0.40 - 0.45|333-375|3|Dflt|FH|no|20(H) × 20(F)|1.2|Cartesian|Asym|shortest (3000-6000)|25|90 (150-190)|$\\leq$10|8|yes|1.5|2|NA|2:43\n",
        "|`Ax T1`       |CLEAR|100 (RL) $\\times$ 130-150 (AP)|(0.53 - 0.55) $\\small\\times$ (0.56 - 0.60)|(255 - 283)$\\times$(233 - 268)|0.4 - 0.45       |333-350|3|Dflt|RL|no|40(L) $\\times$ 40(R)|1.2|Cartesian|Asym|1800-3000|30|90|$\\leq$10|8|yes|1.2|2|NA|1:56\n",
        "|`Ax T2 fs`     |CLEAR|100 (RL) $\\times$ 130-150 (AP)|(0.53 - 0.55) $\\small\\times$ (0.56 - 0.60)|(255 - 283)$\\times$(233 - 268)|0.4 - 0.45 |333-350|3|Dflt|RL|no|40(R) × 40(L)|1.2|Cartesian|Asym|shortest|55|90|$\\leq$12|8|no|1.2|2|SPIR|2:54\n",
        "|`Cor T1`       |CLEAR|~100|(0.48 - 0.55) $\\small\\times$ (0.52 - 0.60)|(200 - 208)$\\times$(192 - 167)|0.4 - 0.45       |333-350|3|Dflt|RL|no|no|no|Cartesian|Asym|1800-3000|30|90|$\\leq$10|8|yes|1.2|2|NA|2:36\n",
        "|`Cor T2 fs`     |CLEAR|~100|(0.50- 0.55) $\\small\\times$ (0.56 - 0.62)|(200 - 192)$\\times$(161 - 179)|0.4 - 0.45 |333-350|3|Dflt|RL|no|no|no|Cartesian|Asym|shortest|55|90|$\\leq$12|8|no|1.5|2|SPIR|2:06\n"
      ],
      "metadata": {
        "id": "SZtnfmYfL3B4"
      }
    },
    {
      "cell_type": "markdown",
      "source": [
        "Prescription pointer:\n",
        "\n",
        "In both MRI studies of the \"ankle\" and the \"foot\" the Lisfranc joint (tarsometatarsal) (white contour line) should be included due to the importance of Lisfranc injuries, and in particular, the Lisfranc ligament (asterisk):\n",
        "\n",
        "<img src=\"https://user-images.githubusercontent.com/96500190/150993665-0ed4ffc4-0c8c-432d-923b-b5d6556c5f94.png\" width=\"350\" height=\"550\" />\n",
        "\n",
        "\n"
      ],
      "metadata": {
        "id": "QCosF3rCO8oC"
      }
    }
  ]
}